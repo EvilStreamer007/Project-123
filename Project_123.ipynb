{
  "nbformat": 4,
  "nbformat_minor": 0,
  "metadata": {
    "colab": {
      "provenance": [],
      "include_colab_link": true
    },
    "kernelspec": {
      "name": "python3",
      "display_name": "Python 3"
    },
    "language_info": {
      "name": "python"
    }
  },
  "cells": [
    {
      "cell_type": "markdown",
      "metadata": {
        "id": "view-in-github",
        "colab_type": "text"
      },
      "source": [
        "<a href=\"https://colab.research.google.com/github/EvilStreamer007/Project-123/blob/main/Project_123.ipynb\" target=\"_parent\"><img src=\"https://colab.research.google.com/assets/colab-badge.svg\" alt=\"Open In Colab\"/></a>"
      ]
    },
    {
      "cell_type": "markdown",
      "source": [
        "**Archery-Target** is a game in which the players shoot sharp-pointed arrows at a round target having 10 rings.\n",
        "\n",
        "<img src=\"https://s3-whjr-curriculum-uploads.whjr.online/4de9132a-c71d-42ce-9099-3293e8805fd9.jpg\"> "
      ],
      "metadata": {
        "id": "nUWO5QkC_g-4"
      }
    },
    {
      "cell_type": "markdown",
      "source": [
        "## RL Problem to Solve\n",
        "Hit the center of the target with maximum reward"
      ],
      "metadata": {
        "id": "5QtHLAqv3wP3"
      }
    },
    {
      "cell_type": "markdown",
      "source": [
        "<img src=\"https://s3-whjr-curriculum-uploads.whjr.online/40656a8c-14e2-4dd7-9f9e-4c17669b9182.png\" width=300>\n",
        "\n",
        "\n",
        "Number of **State**: ?\n",
        "\n",
        "Number of **Actions**: ?\n",
        "\n"
      ],
      "metadata": {
        "id": "Osb6FQ74YZtE"
      }
    },
    {
      "cell_type": "markdown",
      "source": [
        "## Rewards"
      ],
      "metadata": {
        "id": "m3Ut2W9A4EiB"
      }
    },
    {
      "cell_type": "code",
      "source": [
        "#import required libraries\n",
        "import numpy as np\n",
        "import random\n"
      ],
      "metadata": {
        "id": "PqX3v26eEt0T"
      },
      "execution_count": 1,
      "outputs": []
    },
    {
      "cell_type": "markdown",
      "source": [
        "## Reward Matrix\n",
        "Reward Matrix represents states as rows and actions as columns with respective awards values assigned for a given state and action pair."
      ],
      "metadata": {
        "id": "Ujmi3BO54LfJ"
      }
    },
    {
      "cell_type": "code",
      "source": [
        "#Create reward matrix\n",
        "rewards = np.array([1,2,3,4,5,6,7,8,9,10])\n",
        "\n",
        "\n"
      ],
      "metadata": {
        "id": "khJ1RqL3Eksu"
      },
      "execution_count": 2,
      "outputs": []
    },
    {
      "cell_type": "markdown",
      "source": [
        "## Take Action Randomly"
      ],
      "metadata": {
        "id": "Af-CAmdfkDQY"
      }
    },
    {
      "cell_type": "code",
      "source": [
        "#Define a function shoot() for taking random action\n",
        "def shoot():\n",
        "  return np.random.randint(0,10)\n",
        "  \n",
        "print(rewards)\n",
        "print(\"Score:\",shoot())\n",
        " "
      ],
      "metadata": {
        "id": "ibSLCyMyigmK",
        "colab": {
          "base_uri": "https://localhost:8080/"
        },
        "outputId": "b28714a1-bd27-43c8-aab5-469eaa211ff2"
      },
      "execution_count": 11,
      "outputs": [
        {
          "output_type": "stream",
          "name": "stdout",
          "text": [
            "[ 1  2  3  4  5  6  7  8  9 10]\n",
            "Score:  7\n"
          ]
        }
      ]
    }
  ]
}